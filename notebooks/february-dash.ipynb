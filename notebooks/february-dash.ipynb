{
 "cells": [
  {
   "cell_type": "markdown",
   "id": "d9ba94ff",
   "metadata": {},
   "source": [
    "## February Dashboard\n",
    "\n",
    "#### Objectives\n",
    "- Increase the overall number of movements in my catalog by adding 3 new movements per muscle group.\n",
    "- Find my sweet spot for volume lifted per muscle group.\n",
    "\n",
    "#### Plan\n",
    "To begin with, for each muscle group, I'll grab my movement data and isolate a `set` of movements from dates preceding February 3, 2022 (the date these goals were set). I will then create a `set` of all movements performed for that muscle group and filter out the one's previously recorded. This should give me my set of unique new movements per muscle group! We will plot these with an X label of muscle groups, and a Y value of `len(set)`. This will show us unique new movement counts for each muscle group.\n",
    "\n",
    "Then, we will create filtered sets of movements per muscle group, and using them, plot each muscle group on a cartesian plane with an X axis measuring time, and a Y axis measuring weight in lbs. This will show us our trend over the month for each muscle group. We will be looking for a plateu around the middle/end of the month that will indicate our ideal. \n",
    "\n",
    "#### Assumptions\n",
    "The workout data recorded is generated from Apple Fitness and the `workout-cli` Python application in this library. Each workout is designed to reach my limits, and every movement is performed with the utmost attention paid to proper form. This means that any data populating the volume-by-time graph can be considered within reasonable deviation from my best efforts."
   ]
  },
  {
   "cell_type": "code",
   "execution_count": 60,
   "id": "7c38b521",
   "metadata": {},
   "outputs": [],
   "source": [
    "import numpy as np\n",
    "import pandas as pd\n",
    "import matplotlib.pyplot as plt"
   ]
  },
  {
   "cell_type": "markdown",
   "id": "8823cd7d",
   "metadata": {},
   "source": [
    "### Unique movements per muscle group\n",
    "First, we isolate our sets of movements per muscle group. We'll start by reading in and observing our dataframe."
   ]
  },
  {
   "cell_type": "code",
   "execution_count": 16,
   "id": "46978a5b",
   "metadata": {},
   "outputs": [
    {
     "data": {
      "text/html": [
       "<div>\n",
       "<style scoped>\n",
       "    .dataframe tbody tr th:only-of-type {\n",
       "        vertical-align: middle;\n",
       "    }\n",
       "\n",
       "    .dataframe tbody tr th {\n",
       "        vertical-align: top;\n",
       "    }\n",
       "\n",
       "    .dataframe thead th {\n",
       "        text-align: right;\n",
       "    }\n",
       "</style>\n",
       "<table border=\"1\" class=\"dataframe\">\n",
       "  <thead>\n",
       "    <tr style=\"text-align: right;\">\n",
       "      <th></th>\n",
       "      <th>workout_id</th>\n",
       "      <th>name</th>\n",
       "      <th>group</th>\n",
       "      <th>sets</th>\n",
       "      <th>reps</th>\n",
       "      <th>weight</th>\n",
       "      <th>volume</th>\n",
       "    </tr>\n",
       "  </thead>\n",
       "  <tbody>\n",
       "    <tr>\n",
       "      <th>34</th>\n",
       "      <td>ab8296ee-87a3-448d-8ec4-4df7f4699c93</td>\n",
       "      <td>db shoulder press</td>\n",
       "      <td>shoulder</td>\n",
       "      <td>3</td>\n",
       "      <td>10</td>\n",
       "      <td>50.0</td>\n",
       "      <td>1500.0</td>\n",
       "    </tr>\n",
       "    <tr>\n",
       "      <th>35</th>\n",
       "      <td>ab8296ee-87a3-448d-8ec4-4df7f4699c93</td>\n",
       "      <td>db lateral raise</td>\n",
       "      <td>shoulder</td>\n",
       "      <td>3</td>\n",
       "      <td>6</td>\n",
       "      <td>30.0</td>\n",
       "      <td>540.0</td>\n",
       "    </tr>\n",
       "    <tr>\n",
       "      <th>36</th>\n",
       "      <td>ab8296ee-87a3-448d-8ec4-4df7f4699c93</td>\n",
       "      <td>cable tri pulldown</td>\n",
       "      <td>tricep</td>\n",
       "      <td>3</td>\n",
       "      <td>8</td>\n",
       "      <td>37.5</td>\n",
       "      <td>900.0</td>\n",
       "    </tr>\n",
       "    <tr>\n",
       "      <th>37</th>\n",
       "      <td>ab8296ee-87a3-448d-8ec4-4df7f4699c93</td>\n",
       "      <td>db hammer curl</td>\n",
       "      <td>bicep</td>\n",
       "      <td>5</td>\n",
       "      <td>8</td>\n",
       "      <td>40.0</td>\n",
       "      <td>1600.0</td>\n",
       "    </tr>\n",
       "    <tr>\n",
       "      <th>38</th>\n",
       "      <td>ab8296ee-87a3-448d-8ec4-4df7f4699c93</td>\n",
       "      <td>db tri extension</td>\n",
       "      <td>tricep</td>\n",
       "      <td>5</td>\n",
       "      <td>8</td>\n",
       "      <td>20.0</td>\n",
       "      <td>800.0</td>\n",
       "    </tr>\n",
       "  </tbody>\n",
       "</table>\n",
       "</div>"
      ],
      "text/plain": [
       "                              workout_id                name     group  sets  \\\n",
       "34  ab8296ee-87a3-448d-8ec4-4df7f4699c93   db shoulder press  shoulder     3   \n",
       "35  ab8296ee-87a3-448d-8ec4-4df7f4699c93    db lateral raise  shoulder     3   \n",
       "36  ab8296ee-87a3-448d-8ec4-4df7f4699c93  cable tri pulldown    tricep     3   \n",
       "37  ab8296ee-87a3-448d-8ec4-4df7f4699c93      db hammer curl     bicep     5   \n",
       "38  ab8296ee-87a3-448d-8ec4-4df7f4699c93    db tri extension    tricep     5   \n",
       "\n",
       "    reps  weight  volume  \n",
       "34    10    50.0  1500.0  \n",
       "35     6    30.0   540.0  \n",
       "36     8    37.5   900.0  \n",
       "37     8    40.0  1600.0  \n",
       "38     8    20.0   800.0  "
      ]
     },
     "execution_count": 16,
     "metadata": {},
     "output_type": "execute_result"
    }
   ],
   "source": [
    "movements_df = pd.read_csv('../data/movements-log.csv', index_col=0)\n",
    "movements_df.tail()"
   ]
  },
  {
   "cell_type": "markdown",
   "id": "236729c5",
   "metadata": {},
   "source": [
    "Next, let's observe the unique values within our `name` column."
   ]
  },
  {
   "cell_type": "code",
   "execution_count": 77,
   "id": "3fd7a556",
   "metadata": {},
   "outputs": [
    {
     "data": {
      "text/plain": [
       "{'cable axes',\n",
       " 'cable face pull',\n",
       " 'cable hammer curl',\n",
       " 'cable lat pulldown',\n",
       " 'cable pull through',\n",
       " 'cable row',\n",
       " 'cable tri pulldown',\n",
       " 'calf raises',\n",
       " 'chin up',\n",
       " 'db chest press',\n",
       " 'db curl',\n",
       " 'db delt raise',\n",
       " 'db fly',\n",
       " 'db front raise',\n",
       " 'db hammer curl',\n",
       " 'db lateral raise',\n",
       " 'db row',\n",
       " 'db shoulder press',\n",
       " 'db tri extension',\n",
       " 'db tri press',\n",
       " 'incline db chest press',\n",
       " 'lunges',\n",
       " 'pull up',\n",
       " 'rdl',\n",
       " 'single-leg rdl',\n",
       " 'squat',\n",
       " 'step ups',\n",
       " 'walking lunges'}"
      ]
     },
     "execution_count": 77,
     "metadata": {},
     "output_type": "execute_result"
    }
   ],
   "source": [
    "set(movements_df.name)"
   ]
  },
  {
   "cell_type": "markdown",
   "id": "70e84bbc",
   "metadata": {},
   "source": [
    "Our delta group will only start with movements added after February 3, 2022. To do this, we'll read in the Workouts dataframe, grab the `id` of each workout prior to February 3, 2022, and use them to filter out those workouts from our dataframe."
   ]
  },
  {
   "cell_type": "code",
   "execution_count": 106,
   "id": "cd2761b4",
   "metadata": {},
   "outputs": [
    {
     "data": {
      "text/plain": [
       "array(['8d5eb0c6-dd34-4930-b780-7d5fa07d6be6',\n",
       "       'ab8296ee-87a3-448d-8ec4-4df7f4699c93'], dtype=object)"
      ]
     },
     "execution_count": 106,
     "metadata": {},
     "output_type": "execute_result"
    }
   ],
   "source": [
    "workouts_df = pd.read_csv('../data/workouts-log.csv', index_col=0)\n",
    "\n",
    "# Convert date column to DateTime and create cutoff for comparison\n",
    "workouts_df.date = pd.to_datetime(workouts_df.date, format=\"%Y-%m-%d %H:%M:%S\")\n",
    "cutoff = pd.to_datetime('2022-02-02 23:59:59')\n",
    "\n",
    "accepted_ids = workouts_df[workouts_df.date > cutoff].id.unique()\n",
    "accepted_ids"
   ]
  },
  {
   "cell_type": "code",
   "execution_count": 75,
   "id": "8ad6c1aa",
   "metadata": {
    "scrolled": true
   },
   "outputs": [
    {
     "data": {
      "text/html": [
       "<div>\n",
       "<style scoped>\n",
       "    .dataframe tbody tr th:only-of-type {\n",
       "        vertical-align: middle;\n",
       "    }\n",
       "\n",
       "    .dataframe tbody tr th {\n",
       "        vertical-align: top;\n",
       "    }\n",
       "\n",
       "    .dataframe thead th {\n",
       "        text-align: right;\n",
       "    }\n",
       "</style>\n",
       "<table border=\"1\" class=\"dataframe\">\n",
       "  <thead>\n",
       "    <tr style=\"text-align: right;\">\n",
       "      <th></th>\n",
       "      <th>workout_id</th>\n",
       "      <th>name</th>\n",
       "      <th>group</th>\n",
       "      <th>sets</th>\n",
       "      <th>reps</th>\n",
       "      <th>weight</th>\n",
       "      <th>volume</th>\n",
       "    </tr>\n",
       "  </thead>\n",
       "  <tbody>\n",
       "    <tr>\n",
       "      <th>20</th>\n",
       "      <td>a802b62d-6662-40c7-9a5b-95bb5696c491</td>\n",
       "      <td>cable lat pulldown</td>\n",
       "      <td>back</td>\n",
       "      <td>5</td>\n",
       "      <td>10</td>\n",
       "      <td>65.0</td>\n",
       "      <td>3250.0</td>\n",
       "    </tr>\n",
       "    <tr>\n",
       "      <th>21</th>\n",
       "      <td>a802b62d-6662-40c7-9a5b-95bb5696c491</td>\n",
       "      <td>cable row</td>\n",
       "      <td>back</td>\n",
       "      <td>5</td>\n",
       "      <td>10</td>\n",
       "      <td>65.0</td>\n",
       "      <td>3250.0</td>\n",
       "    </tr>\n",
       "    <tr>\n",
       "      <th>22</th>\n",
       "      <td>a802b62d-6662-40c7-9a5b-95bb5696c491</td>\n",
       "      <td>db front raise</td>\n",
       "      <td>shoulder</td>\n",
       "      <td>5</td>\n",
       "      <td>7</td>\n",
       "      <td>30.0</td>\n",
       "      <td>1050.0</td>\n",
       "    </tr>\n",
       "    <tr>\n",
       "      <th>23</th>\n",
       "      <td>a802b62d-6662-40c7-9a5b-95bb5696c491</td>\n",
       "      <td>db shoulder press</td>\n",
       "      <td>shoulder</td>\n",
       "      <td>5</td>\n",
       "      <td>5</td>\n",
       "      <td>50.0</td>\n",
       "      <td>1250.0</td>\n",
       "    </tr>\n",
       "    <tr>\n",
       "      <th>24</th>\n",
       "      <td>a802b62d-6662-40c7-9a5b-95bb5696c491</td>\n",
       "      <td>cable axes</td>\n",
       "      <td>core</td>\n",
       "      <td>5</td>\n",
       "      <td>20</td>\n",
       "      <td>22.5</td>\n",
       "      <td>2250.0</td>\n",
       "    </tr>\n",
       "  </tbody>\n",
       "</table>\n",
       "</div>"
      ],
      "text/plain": [
       "                              workout_id                name     group  sets  \\\n",
       "20  a802b62d-6662-40c7-9a5b-95bb5696c491  cable lat pulldown      back     5   \n",
       "21  a802b62d-6662-40c7-9a5b-95bb5696c491           cable row      back     5   \n",
       "22  a802b62d-6662-40c7-9a5b-95bb5696c491      db front raise  shoulder     5   \n",
       "23  a802b62d-6662-40c7-9a5b-95bb5696c491   db shoulder press  shoulder     5   \n",
       "24  a802b62d-6662-40c7-9a5b-95bb5696c491          cable axes      core     5   \n",
       "\n",
       "    reps  weight  volume  \n",
       "20    10    65.0  3250.0  \n",
       "21    10    65.0  3250.0  \n",
       "22     7    30.0  1050.0  \n",
       "23     5    50.0  1250.0  \n",
       "24    20    22.5  2250.0  "
      ]
     },
     "execution_count": 75,
     "metadata": {},
     "output_type": "execute_result"
    }
   ],
   "source": [
    "# Sanity check; did it work? The workout_ids above should not appear in accepted_ids\n",
    "movements_df[~movements_df.workout_id.isin(accepted_ids)].tail()"
   ]
  },
  {
   "cell_type": "code",
   "execution_count": 80,
   "id": "f671909a",
   "metadata": {
    "scrolled": true
   },
   "outputs": [
    {
     "data": {
      "text/html": [
       "<div>\n",
       "<style scoped>\n",
       "    .dataframe tbody tr th:only-of-type {\n",
       "        vertical-align: middle;\n",
       "    }\n",
       "\n",
       "    .dataframe tbody tr th {\n",
       "        vertical-align: top;\n",
       "    }\n",
       "\n",
       "    .dataframe thead th {\n",
       "        text-align: right;\n",
       "    }\n",
       "</style>\n",
       "<table border=\"1\" class=\"dataframe\">\n",
       "  <thead>\n",
       "    <tr style=\"text-align: right;\">\n",
       "      <th></th>\n",
       "      <th>workout_id</th>\n",
       "      <th>name</th>\n",
       "      <th>group</th>\n",
       "      <th>sets</th>\n",
       "      <th>reps</th>\n",
       "      <th>weight</th>\n",
       "      <th>volume</th>\n",
       "    </tr>\n",
       "  </thead>\n",
       "  <tbody>\n",
       "    <tr>\n",
       "      <th>25</th>\n",
       "      <td>8d5eb0c6-dd34-4930-b780-7d5fa07d6be6</td>\n",
       "      <td>lunges</td>\n",
       "      <td>quads</td>\n",
       "      <td>5</td>\n",
       "      <td>14</td>\n",
       "      <td>60.0</td>\n",
       "      <td>4200.0</td>\n",
       "    </tr>\n",
       "    <tr>\n",
       "      <th>26</th>\n",
       "      <td>8d5eb0c6-dd34-4930-b780-7d5fa07d6be6</td>\n",
       "      <td>cable pull through</td>\n",
       "      <td>hamstrings</td>\n",
       "      <td>5</td>\n",
       "      <td>12</td>\n",
       "      <td>32.5</td>\n",
       "      <td>1950.0</td>\n",
       "    </tr>\n",
       "    <tr>\n",
       "      <th>33</th>\n",
       "      <td>ab8296ee-87a3-448d-8ec4-4df7f4699c93</td>\n",
       "      <td>cable face pull</td>\n",
       "      <td>shoulder</td>\n",
       "      <td>5</td>\n",
       "      <td>10</td>\n",
       "      <td>32.5</td>\n",
       "      <td>1625.0</td>\n",
       "    </tr>\n",
       "    <tr>\n",
       "      <th>35</th>\n",
       "      <td>ab8296ee-87a3-448d-8ec4-4df7f4699c93</td>\n",
       "      <td>db lateral raise</td>\n",
       "      <td>shoulder</td>\n",
       "      <td>3</td>\n",
       "      <td>6</td>\n",
       "      <td>30.0</td>\n",
       "      <td>540.0</td>\n",
       "    </tr>\n",
       "    <tr>\n",
       "      <th>37</th>\n",
       "      <td>ab8296ee-87a3-448d-8ec4-4df7f4699c93</td>\n",
       "      <td>db hammer curl</td>\n",
       "      <td>bicep</td>\n",
       "      <td>5</td>\n",
       "      <td>8</td>\n",
       "      <td>40.0</td>\n",
       "      <td>1600.0</td>\n",
       "    </tr>\n",
       "    <tr>\n",
       "      <th>38</th>\n",
       "      <td>ab8296ee-87a3-448d-8ec4-4df7f4699c93</td>\n",
       "      <td>db tri extension</td>\n",
       "      <td>tricep</td>\n",
       "      <td>5</td>\n",
       "      <td>8</td>\n",
       "      <td>20.0</td>\n",
       "      <td>800.0</td>\n",
       "    </tr>\n",
       "  </tbody>\n",
       "</table>\n",
       "</div>"
      ],
      "text/plain": [
       "                              workout_id                name       group  \\\n",
       "25  8d5eb0c6-dd34-4930-b780-7d5fa07d6be6              lunges       quads   \n",
       "26  8d5eb0c6-dd34-4930-b780-7d5fa07d6be6  cable pull through  hamstrings   \n",
       "33  ab8296ee-87a3-448d-8ec4-4df7f4699c93     cable face pull    shoulder   \n",
       "35  ab8296ee-87a3-448d-8ec4-4df7f4699c93    db lateral raise    shoulder   \n",
       "37  ab8296ee-87a3-448d-8ec4-4df7f4699c93      db hammer curl       bicep   \n",
       "38  ab8296ee-87a3-448d-8ec4-4df7f4699c93    db tri extension      tricep   \n",
       "\n",
       "    sets  reps  weight  volume  \n",
       "25     5    14    60.0  4200.0  \n",
       "26     5    12    32.5  1950.0  \n",
       "33     5    10    32.5  1625.0  \n",
       "35     3     6    30.0   540.0  \n",
       "37     5     8    40.0  1600.0  \n",
       "38     5     8    20.0   800.0  "
      ]
     },
     "execution_count": 80,
     "metadata": {},
     "output_type": "execute_result"
    }
   ],
   "source": [
    "# Filter out those names that appear before February 3, 2022\n",
    "pre_cutoff = movements_df[~movements_df.workout_id.isin(accepted_ids)]\n",
    "post_cutoff = movements_df[movements_df.workout_id.isin(accepted_ids)]\n",
    "\n",
    "new_movements = post_cutoff[~post_cutoff.name.isin(pre_cutoff.name.unique())]\n",
    "new_movements"
   ]
  },
  {
   "cell_type": "markdown",
   "id": "f7470e6d",
   "metadata": {},
   "source": [
    "### Visualization\n",
    "First, let's unpack that dictionary from earlier."
   ]
  },
  {
   "cell_type": "code",
   "execution_count": 262,
   "id": "03fb49fe",
   "metadata": {},
   "outputs": [
    {
     "data": {
      "text/plain": [
       "group\n",
       "bicep         1\n",
       "hamstrings    1\n",
       "quads         1\n",
       "shoulder      2\n",
       "tricep        1\n",
       "Name: name, dtype: int64"
      ]
     },
     "execution_count": 262,
     "metadata": {},
     "output_type": "execute_result"
    }
   ],
   "source": [
    "x = new_movements.group.unique()\n",
    "y = new_movements.groupby(new_movements.group).count().drop(columns=['workout_id', 'sets', 'reps', 'weight', 'volume']).name\n",
    "y"
   ]
  },
  {
   "cell_type": "code",
   "execution_count": 266,
   "id": "e29a80fb",
   "metadata": {},
   "outputs": [
    {
     "data": {
      "image/png": "[encoded data removed]",
      "text/plain": [
       "<Figure size 720x360 with 1 Axes>"
      ]
     },
     "metadata": {
      "needs_background": "light"
     },
     "output_type": "display_data"
    }
   ],
   "source": [
    "fig, ax = plt.subplots(figsize=(10,5))\n",
    "ax.bar(x, y)\n",
    "start, end = ax.get_ylim()\n",
    "ax.yaxis.set_ticks(np.arange(start, end, 1))\n",
    "ax.set_xlabel('Muscle groups')\n",
    "ax.set_ylabel('Number of new movements')\n",
    "ax.set_title('New movements per muscle group in February 2022');"
   ]
  },
  {
   "cell_type": "markdown",
   "id": "ac3775c0",
   "metadata": {},
   "source": [
    "### Progress on volume lifted per muscle group\n",
    "These operations will be much easier utilizing the Volumes table rather than summing up all the individual movements."
   ]
  },
  {
   "cell_type": "code",
   "execution_count": 179,
   "id": "f78db2f7",
   "metadata": {},
   "outputs": [
    {
     "data": {
      "text/html": [
       "<div>\n",
       "<style scoped>\n",
       "    .dataframe tbody tr th:only-of-type {\n",
       "        vertical-align: middle;\n",
       "    }\n",
       "\n",
       "    .dataframe tbody tr th {\n",
       "        vertical-align: top;\n",
       "    }\n",
       "\n",
       "    .dataframe thead th {\n",
       "        text-align: right;\n",
       "    }\n",
       "</style>\n",
       "<table border=\"1\" class=\"dataframe\">\n",
       "  <thead>\n",
       "    <tr style=\"text-align: right;\">\n",
       "      <th></th>\n",
       "      <th>workout_id</th>\n",
       "      <th>date</th>\n",
       "      <th>duration</th>\n",
       "      <th>cals</th>\n",
       "      <th>split</th>\n",
       "    </tr>\n",
       "    <tr>\n",
       "      <th></th>\n",
       "      <th></th>\n",
       "      <th></th>\n",
       "      <th></th>\n",
       "      <th></th>\n",
       "      <th></th>\n",
       "    </tr>\n",
       "  </thead>\n",
       "  <tbody>\n",
       "    <tr>\n",
       "      <th>0</th>\n",
       "      <td>95fa9054-69a0-4dd6-a660-ecb9f7cf54b0</td>\n",
       "      <td>2022-01-30 13:50:00</td>\n",
       "      <td>47:54</td>\n",
       "      <td>418</td>\n",
       "      <td>upper</td>\n",
       "    </tr>\n",
       "    <tr>\n",
       "      <th>1</th>\n",
       "      <td>ab2e2469-ffcf-4c3b-a6b8-0cd18a3936a0</td>\n",
       "      <td>2022-01-31 08:05:00</td>\n",
       "      <td>34:42</td>\n",
       "      <td>290</td>\n",
       "      <td>lower</td>\n",
       "    </tr>\n",
       "    <tr>\n",
       "      <th>2</th>\n",
       "      <td>a802b62d-6662-40c7-9a5b-95bb5696c491</td>\n",
       "      <td>2022-02-02 07:22:00</td>\n",
       "      <td>66:39</td>\n",
       "      <td>462</td>\n",
       "      <td>upper</td>\n",
       "    </tr>\n",
       "    <tr>\n",
       "      <th>3</th>\n",
       "      <td>8d5eb0c6-dd34-4930-b780-7d5fa07d6be6</td>\n",
       "      <td>2022-02-03 07:42:00</td>\n",
       "      <td>39:03</td>\n",
       "      <td>301</td>\n",
       "      <td>lower</td>\n",
       "    </tr>\n",
       "    <tr>\n",
       "      <th>4</th>\n",
       "      <td>ab8296ee-87a3-448d-8ec4-4df7f4699c93</td>\n",
       "      <td>2022-02-04 16:54:00</td>\n",
       "      <td>48:34</td>\n",
       "      <td>389</td>\n",
       "      <td>upper</td>\n",
       "    </tr>\n",
       "  </tbody>\n",
       "</table>\n",
       "</div>"
      ],
      "text/plain": [
       "                             workout_id                date duration  cals  \\\n",
       "                                                                             \n",
       "0  95fa9054-69a0-4dd6-a660-ecb9f7cf54b0 2022-01-30 13:50:00    47:54   418   \n",
       "1  ab2e2469-ffcf-4c3b-a6b8-0cd18a3936a0 2022-01-31 08:05:00    34:42   290   \n",
       "2  a802b62d-6662-40c7-9a5b-95bb5696c491 2022-02-02 07:22:00    66:39   462   \n",
       "3  8d5eb0c6-dd34-4930-b780-7d5fa07d6be6 2022-02-03 07:42:00    39:03   301   \n",
       "4  ab8296ee-87a3-448d-8ec4-4df7f4699c93 2022-02-04 16:54:00    48:34   389   \n",
       "\n",
       "   split  \n",
       "          \n",
       "0  upper  \n",
       "1  lower  \n",
       "2  upper  \n",
       "3  lower  \n",
       "4  upper  "
      ]
     },
     "execution_count": 179,
     "metadata": {},
     "output_type": "execute_result"
    }
   ],
   "source": [
    "volumes_df = pd.read_csv('../data/volumes-log.csv', index_col=0)\n",
    "workouts_df.rename(columns={'id': 'workout_id'}, inplace=True)\n",
    "workouts_df"
   ]
  },
  {
   "cell_type": "markdown",
   "id": "35a4ed4f",
   "metadata": {},
   "source": [
    "Let's merge this with our Workouts dataframe since each one has a unique indentifier in the `workout_id` column."
   ]
  },
  {
   "cell_type": "code",
   "execution_count": 258,
   "id": "259c82be",
   "metadata": {},
   "outputs": [
    {
     "data": {
      "text/html": [
       "<div>\n",
       "<style scoped>\n",
       "    .dataframe tbody tr th:only-of-type {\n",
       "        vertical-align: middle;\n",
       "    }\n",
       "\n",
       "    .dataframe tbody tr th {\n",
       "        vertical-align: top;\n",
       "    }\n",
       "\n",
       "    .dataframe thead th {\n",
       "        text-align: right;\n",
       "    }\n",
       "</style>\n",
       "<table border=\"1\" class=\"dataframe\">\n",
       "  <thead>\n",
       "    <tr style=\"text-align: right;\">\n",
       "      <th></th>\n",
       "      <th>workout_id</th>\n",
       "      <th>total_vol</th>\n",
       "      <th>ch_vol</th>\n",
       "      <th>bi_vol</th>\n",
       "      <th>tri_vol</th>\n",
       "      <th>shld_vol</th>\n",
       "      <th>back_vol</th>\n",
       "      <th>core_vol</th>\n",
       "      <th>quad_vol</th>\n",
       "      <th>ham_vol</th>\n",
       "      <th>cf_vol</th>\n",
       "      <th>date</th>\n",
       "      <th>duration</th>\n",
       "      <th>cals</th>\n",
       "      <th>split</th>\n",
       "    </tr>\n",
       "  </thead>\n",
       "  <tbody>\n",
       "    <tr>\n",
       "      <th>3</th>\n",
       "      <td>8d5eb0c6-dd34-4930-b780-7d5fa07d6be6</td>\n",
       "      <td>15250.0</td>\n",
       "      <td>0.0</td>\n",
       "      <td>0.0</td>\n",
       "      <td>0.0</td>\n",
       "      <td>0.0</td>\n",
       "      <td>0.0</td>\n",
       "      <td>0.0</td>\n",
       "      <td>6650.0</td>\n",
       "      <td>4400.0</td>\n",
       "      <td>4200.0</td>\n",
       "      <td>2022-02-03 07:42:00</td>\n",
       "      <td>39:03</td>\n",
       "      <td>301</td>\n",
       "      <td>lower</td>\n",
       "    </tr>\n",
       "    <tr>\n",
       "      <th>4</th>\n",
       "      <td>ab8296ee-87a3-448d-8ec4-4df7f4699c93</td>\n",
       "      <td>11765.0</td>\n",
       "      <td>0.0</td>\n",
       "      <td>4400.0</td>\n",
       "      <td>3700.0</td>\n",
       "      <td>3665.0</td>\n",
       "      <td>0.0</td>\n",
       "      <td>0.0</td>\n",
       "      <td>0.0</td>\n",
       "      <td>0.0</td>\n",
       "      <td>0.0</td>\n",
       "      <td>2022-02-04 16:54:00</td>\n",
       "      <td>48:34</td>\n",
       "      <td>389</td>\n",
       "      <td>upper</td>\n",
       "    </tr>\n",
       "  </tbody>\n",
       "</table>\n",
       "</div>"
      ],
      "text/plain": [
       "                             workout_id  total_vol  ch_vol  bi_vol  tri_vol  \\\n",
       "3  8d5eb0c6-dd34-4930-b780-7d5fa07d6be6    15250.0     0.0     0.0      0.0   \n",
       "4  ab8296ee-87a3-448d-8ec4-4df7f4699c93    11765.0     0.0  4400.0   3700.0   \n",
       "\n",
       "   shld_vol  back_vol  core_vol  quad_vol  ham_vol  cf_vol  \\\n",
       "3       0.0       0.0       0.0    6650.0   4400.0  4200.0   \n",
       "4    3665.0       0.0       0.0       0.0      0.0     0.0   \n",
       "\n",
       "                 date duration  cals  split  \n",
       "3 2022-02-03 07:42:00    39:03   301  lower  \n",
       "4 2022-02-04 16:54:00    48:34   389  upper  "
      ]
     },
     "execution_count": 258,
     "metadata": {},
     "output_type": "execute_result"
    }
   ],
   "source": [
    "merged_df = pd.merge(volumes_df, workouts_df, on='workout_id', how='left')\n",
    "merged_df = merged_df[merged_df.workout_id.isin(accepted_ids)]\n",
    "merged_df"
   ]
  },
  {
   "cell_type": "markdown",
   "id": "c3766b15",
   "metadata": {},
   "source": [
    "I'm awaiting about another 5-6 workouts before I end up plotting this data."
   ]
  },
  {
   "cell_type": "code",
   "execution_count": null,
   "id": "0c9b66e5",
   "metadata": {},
   "outputs": [],
   "source": []
  }
 ],
 "metadata": {
  "kernelspec": {
   "display_name": "Python 3 (ipykernel)",
   "language": "python",
   "name": "python3"
  },
  "language_info": {
   "codemirror_mode": {
    "name": "ipython",
    "version": 3
   },
   "file_extension": ".py",
   "mimetype": "text/x-python",
   "name": "python",
   "nbconvert_exporter": "python",
   "pygments_lexer": "ipython3",
   "version": "3.9.7"
  }
 },
 "nbformat": 4,
 "nbformat_minor": 5
}
